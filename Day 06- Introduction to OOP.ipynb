{
 "cells": [
  {
   "cell_type": "markdown",
   "id": "1bd0ec36-119c-458e-b5ab-2fca554a9e95",
   "metadata": {},
   "source": [
    "### ○ Create a BankAccount class with methods for deposit, withdrawal, and balance check"
   ]
  },
  {
   "cell_type": "code",
   "execution_count": 77,
   "id": "0fbc875a-9618-433f-bcaf-a2809a22e091",
   "metadata": {},
   "outputs": [
    {
     "name": "stdout",
     "output_type": "stream",
     "text": [
      "Account created Successfully :  Nived Sudhindran \t 67000100200 \t 4000\n",
      "\n",
      "Amount 1000 deposited Successfully!\n",
      "Updated Account Balance is 5000\n",
      "\n",
      "Insufficient Balance! Withdrawal of 10000 failed\n",
      "\n",
      "Current Account Balance is 5000\n",
      "\n",
      "Withdrawal of amount 2000 Successful!\n",
      "Updated Account Balance is 3000\n"
     ]
    }
   ],
   "source": [
    "import time as t\n",
    "class BankAccount:\n",
    "    def __init__(self,name,ac_number,cur_balance):    # initialising the class members\n",
    "        self.name=name\n",
    "        self.ac_number=ac_number\n",
    "        self.cur_balance=cur_balance\n",
    "        print(\"Account created Successfully : \",self.name,\"\\t\",self.ac_number,\"\\t\",self.cur_balance)\n",
    "\n",
    "    def deposit(self,add_amount):       # deposit money to account\n",
    "        self.cur_balance += add_amount\n",
    "        print(f\"\\nAmount {add_amount} deposited Successfully!\")\n",
    "        print(f\"Updated Account Balance is {self.cur_balance}\")\n",
    "\n",
    "    def withdraw(self,withdraw_amount):       # withdraw money from account\n",
    "        if self.cur_balance< withdraw_amount:\n",
    "            print(f\"\\nInsufficient Balance! Withdrawal of {withdraw_amount} failed\")\n",
    "        else:\n",
    "            self.cur_balance -= withdraw_amount\n",
    "            print(f\"\\nWithdrawal of amount {withdraw_amount} Successful!\")\n",
    "            print(f\"Updated Account Balance is {self.cur_balance}\")\n",
    "\n",
    "    def check_balance(self):       # check balance from the account\n",
    "        print(f\"\\nCurrent Account Balance is {self.cur_balance}\")\n",
    "\n",
    "my_account= BankAccount(\"Nived Sudhindran\",67000100200,4000)\n",
    "t.sleep(3)\n",
    "\n",
    "# deposit 1000 to account\n",
    "my_account.deposit(1000) \n",
    "t.sleep(3)\n",
    "\n",
    "# trying to withdraw an amount greater than the current balance of 5000\n",
    "my_account.withdraw(10000)\n",
    "t.sleep(3)\n",
    "my_account.check_balance()\n",
    "t.sleep(3)\n",
    "\n",
    "# trying to withdraw an amount less than the current balance of 5000\n",
    "my_account.withdraw(2000)\n",
    "\n",
    "        "
   ]
  }
 ],
 "metadata": {
  "kernelspec": {
   "display_name": "Python 3 (ipykernel)",
   "language": "python",
   "name": "python3"
  },
  "language_info": {
   "codemirror_mode": {
    "name": "ipython",
    "version": 3
   },
   "file_extension": ".py",
   "mimetype": "text/x-python",
   "name": "python",
   "nbconvert_exporter": "python",
   "pygments_lexer": "ipython3",
   "version": "3.12.7"
  }
 },
 "nbformat": 4,
 "nbformat_minor": 5
}
